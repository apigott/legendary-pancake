{
 "cells": [
  {
   "cell_type": "markdown",
   "metadata": {},
   "source": [
    "### Use the Dymola-Python API to simulate a model with start/stop functionality.\n",
    "\n",
    "This is working if you can run a simulation of BouncingBall and at each \"step\" of simulation the initial height is carried forward. \n",
    "\n",
    "For example, at step 1 we simulate seconds 0-1 and the ball starts from h_0 and ends at some lower position (h_1 < h_0). Then when you run the simulation for step 2 (seconds 1-2) the ball should move from h_1 to a new position h_2.  "
   ]
  },
  {
   "cell_type": "code",
   "execution_count": 1,
   "metadata": {},
   "outputs": [],
   "source": [
    "import os\n",
    "from dymola.dymola_interface import DymolaInterface\n",
    "\n",
    "# create a junk directory to temporarily store files\n",
    "if not os.path.isdir('temp_res'):\n",
    "    os.mkdir('temp_res')\n",
    "\n",
    "temp_dir = os.path.join(os.getcwd(), 'temp_res')\n",
    "    \n",
    "dymola = DymolaInterface()"
   ]
  },
  {
   "cell_type": "code",
   "execution_count": 2,
   "metadata": {},
   "outputs": [
    {
     "data": {
      "text/plain": [
       "True"
      ]
     },
     "execution_count": 2,
     "metadata": {},
     "output_type": "execute_result"
    }
   ],
   "source": [
    "# with Kundur SMIB\n",
    "model_name = \"KundurSMIB.SMIB\"\n",
    "dymola.openModel(\"../../OpenIPSL-1.5.0/OpenIPSL/package.mo\") # dymola stores OpenIPSL-1.5.0/OpenIPSL as the cwd\n",
    "dymola.openModel(\"../ApplicationExamples/KundurSMIB/package.mo\") # relative path to next library\n",
    "dt = 1\n",
    "final_names = [\"G1.machine.P\"]\n",
    "\n",
    "# # with BouncingBall simualtion (simple test)\n",
    "# model_name = \"BouncingBall\"\n",
    "# dymola.openModel(\"BouncingBall.mo\")\n",
    "# dt = 0.2\n",
    "# final_names = [\"h\"]\n",
    "\n",
    "# change the directory for dymola output (.txt files) to the junk directory\n",
    "dymola.cd(temp_dir)"
   ]
  },
  {
   "cell_type": "code",
   "execution_count": 3,
   "metadata": {},
   "outputs": [
    {
     "name": "stdout",
     "output_type": "stream",
     "text": [
      "[True, [1.0046344690521414]]\n",
      "[True, [0.9463867014983287]]\n",
      "[True, [0.8825716280397292]]\n",
      "[True, [0.8406660990098482]]\n",
      "[True, [0.8362883480741217]]\n",
      "[True, [0.8629438941468419]]\n",
      "[True, [0.9014636533924356]]\n",
      "[True, [0.9238923375762723]]\n",
      "[True, [0.9266298451842754]]\n",
      "[True, [0.9123445398548413]]\n"
     ]
    }
   ],
   "source": [
    "# Dynamic simulation\n",
    "n_steps = 10\n",
    "\n",
    "start = 0\n",
    "stop = dt\n",
    "for step in range(10):\n",
    "    # simulate the model\n",
    "    res_dyn_sim = dymola.simulateExtendedModel(model_name, startTime=start, stopTime=stop, finalNames=final_names)\n",
    "    \n",
    "    # when final_names has variable names, their end values will print here (to help you see if the model is progressing) \n",
    "    print(res_dyn_sim)\n",
    "        \n",
    "    # increment the timesteps\n",
    "    start = stop\n",
    "    stop += dt\n",
    "    \n",
    "    # import the dsfinal.txt file in order to initialize the model with the previous step's solution\n",
    "    dymola.importInitial(os.path.join(temp_dir, 'dsfinal.txt'))"
   ]
  },
  {
   "cell_type": "code",
   "execution_count": 4,
   "metadata": {},
   "outputs": [],
   "source": [
    "# any values in the temp_dir will be used automatically... use this to effectively reset the model\n",
    "for file in os.listdir(temp_dir):\n",
    "    os.remove(os.path.join(temp_dir, file))"
   ]
  }
 ],
 "metadata": {
  "kernelspec": {
   "display_name": "Python 3",
   "language": "python",
   "name": "python3"
  },
  "language_info": {
   "codemirror_mode": {
    "name": "ipython",
    "version": 3
   },
   "file_extension": ".py",
   "mimetype": "text/x-python",
   "name": "python",
   "nbconvert_exporter": "python",
   "pygments_lexer": "ipython3",
   "version": "3.8.5"
  }
 },
 "nbformat": 4,
 "nbformat_minor": 5
}
